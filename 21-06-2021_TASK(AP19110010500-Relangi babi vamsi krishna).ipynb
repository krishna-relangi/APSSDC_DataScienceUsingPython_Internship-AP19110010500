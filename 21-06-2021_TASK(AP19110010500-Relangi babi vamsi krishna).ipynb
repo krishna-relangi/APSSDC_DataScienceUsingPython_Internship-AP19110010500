{
 "cells": [
  {
   "cell_type": "markdown",
   "id": "de824a44",
   "metadata": {},
   "source": [
    "# TASK(21-06-2021)\n",
    "- Create arrays with all the data types Available in numpy\n",
    "- Numpy has 11 Datatypes and the characters used to represent them are:\n",
    "    - integer - i\n",
    "    - boolean - ?\n",
    "    - unsigned integer - u\n",
    "    - float - f\n",
    "    - complex float - c\n",
    "    - timedelta - m\n",
    "    - datetime - M\n",
    "    - object - O\n",
    "    - string - S\n",
    "    - unicode string - U\n",
    "    - fixed chunk of memory for other type (void) - V"
   ]
  },
  {
   "cell_type": "markdown",
   "id": "5a1ca866",
   "metadata": {},
   "source": [
    "## Int Datatype"
   ]
  },
  {
   "cell_type": "code",
   "execution_count": 1,
   "id": "252efb78",
   "metadata": {},
   "outputs": [
    {
     "name": "stdout",
     "output_type": "stream",
     "text": [
      "[1 2 3 4 5]\n",
      "int32\n"
     ]
    }
   ],
   "source": [
    "# Creating array with integer in numpy\n",
    "\n",
    "import numpy as np\n",
    "a = np.array([1,2,3,4,5])\n",
    "print(a)\n",
    "print(a.dtype)"
   ]
  },
  {
   "cell_type": "code",
   "execution_count": 2,
   "id": "d0092b24",
   "metadata": {},
   "outputs": [
    {
     "name": "stdout",
     "output_type": "stream",
     "text": [
      "[-1  2  3 -4  5]\n",
      "int32\n"
     ]
    }
   ],
   "source": [
    "import numpy as np\n",
    "a = np.array([-1,2,3,-4,5],dtype = 'intc')  ## int\n",
    "print(a)\n",
    "print(a.dtype)"
   ]
  },
  {
   "cell_type": "code",
   "execution_count": 3,
   "id": "c24fb57b",
   "metadata": {},
   "outputs": [
    {
     "name": "stdout",
     "output_type": "stream",
     "text": [
      "[1 2 3 4 5]\n",
      "int32\n"
     ]
    }
   ],
   "source": [
    "import numpy as np\n",
    "a = np.array([1,2,3,4,5],dtype = 'int_')  ## long\n",
    "print(a)\n",
    "print(a.dtype)"
   ]
  },
  {
   "cell_type": "code",
   "execution_count": 4,
   "id": "0d5a2455",
   "metadata": {},
   "outputs": [
    {
     "name": "stdout",
     "output_type": "stream",
     "text": [
      "[-1  2  3  4  5]\n",
      "int64\n"
     ]
    }
   ],
   "source": [
    "import numpy as np\n",
    "a = np.array([-1,2,3,4,5],dtype = 'longlong')\n",
    "print(a)\n",
    "print(a.dtype)"
   ]
  },
  {
   "cell_type": "markdown",
   "id": "eb756053",
   "metadata": {},
   "source": [
    "## boolean Datatype"
   ]
  },
  {
   "cell_type": "code",
   "execution_count": 5,
   "id": "1163910f",
   "metadata": {},
   "outputs": [
    {
     "name": "stdout",
     "output_type": "stream",
     "text": [
      "[False  True  True  True  True  True]\n",
      "bool\n"
     ]
    }
   ],
   "source": [
    "# Creating array with boolean in numpy\n",
    "import numpy as np\n",
    "a = np.array([0,1,2,3,4,5],dtype = '?')\n",
    "print(a)\n",
    "print(a.dtype)"
   ]
  },
  {
   "cell_type": "code",
   "execution_count": 6,
   "id": "18fcaffb",
   "metadata": {},
   "outputs": [
    {
     "name": "stdout",
     "output_type": "stream",
     "text": [
      "[ True  True  True  True]\n",
      "bool\n"
     ]
    }
   ],
   "source": [
    "import numpy as np\n",
    "a = np.array([1,2,3,4], dtype='bool_')\n",
    "print(a)\n",
    "print(a.dtype)"
   ]
  },
  {
   "cell_type": "markdown",
   "id": "d3f74887",
   "metadata": {},
   "source": [
    "## Unsigned Datatype"
   ]
  },
  {
   "cell_type": "code",
   "execution_count": 7,
   "id": "fda08cb1",
   "metadata": {},
   "outputs": [
    {
     "name": "stdout",
     "output_type": "stream",
     "text": [
      "[         0 4294967295          2 4294967293          4          5]\n",
      "uint32\n"
     ]
    }
   ],
   "source": [
    "# Creating array with unsigned integer in numpy\n",
    "\n",
    "import numpy as np\n",
    "a = np.array([0,-1,2,-3,4,5],dtype = 'uint')   ## unsigned long\n",
    "print(a)\n",
    "print(a.dtype)"
   ]
  },
  {
   "cell_type": "code",
   "execution_count": 8,
   "id": "60afdb37",
   "metadata": {},
   "outputs": [
    {
     "name": "stdout",
     "output_type": "stream",
     "text": [
      "[4294967295          2          3 4294967292          5]\n",
      "uint32\n"
     ]
    }
   ],
   "source": [
    "import numpy as np\n",
    "a = np.array([-1,2,3,-4,5],dtype = 'uintc')  ## unsigned int\n",
    "print(a)\n",
    "print(a.dtype)"
   ]
  },
  {
   "cell_type": "code",
   "execution_count": 9,
   "id": "38e2fd1d",
   "metadata": {},
   "outputs": [
    {
     "name": "stdout",
     "output_type": "stream",
     "text": [
      "[  0 255   2 253   4   5]\n",
      "uint8\n"
     ]
    }
   ],
   "source": [
    "import numpy as np\n",
    "a = np.array([0,-1,2,-3,4,5],dtype = 'uint8')\n",
    "print(a)\n",
    "print(a.dtype)"
   ]
  },
  {
   "cell_type": "code",
   "execution_count": 10,
   "id": "79564601",
   "metadata": {},
   "outputs": [
    {
     "name": "stdout",
     "output_type": "stream",
     "text": [
      "[    0 65535     2 65533     4     5]\n",
      "uint16\n"
     ]
    }
   ],
   "source": [
    "import numpy as np\n",
    "a = np.array([0,-1,2,-3,4,5],dtype = 'uint16')\n",
    "print(a)\n",
    "print(a.dtype)\n"
   ]
  },
  {
   "cell_type": "code",
   "execution_count": 11,
   "id": "40a02baf",
   "metadata": {},
   "outputs": [
    {
     "name": "stdout",
     "output_type": "stream",
     "text": [
      "[         0 4294967295          2 4294967293          4          5]\n",
      "uint32\n"
     ]
    }
   ],
   "source": [
    "import numpy as np\n",
    "a = np.array([0,-1,2,-3,4,5],dtype = 'uint32')\n",
    "print(a)\n",
    "print(a.dtype)"
   ]
  },
  {
   "cell_type": "code",
   "execution_count": 12,
   "id": "cd3a3388",
   "metadata": {},
   "outputs": [
    {
     "name": "stdout",
     "output_type": "stream",
     "text": [
      "[                   0 18446744073709551615                    2\n",
      " 18446744073709551613                    4                    5]\n",
      "uint64\n"
     ]
    }
   ],
   "source": [
    "import numpy as np\n",
    "a = np.array([0,-1,2,-3,4,5],dtype = 'uint64')\n",
    "print(a)\n",
    "print(a.dtype)"
   ]
  },
  {
   "cell_type": "code",
   "execution_count": 13,
   "id": "e0b0b247",
   "metadata": {},
   "outputs": [
    {
     "name": "stdout",
     "output_type": "stream",
     "text": [
      "[18446744073709551615                    2                    3\n",
      "                    4                    5]\n",
      "uint64\n"
     ]
    }
   ],
   "source": [
    "import numpy as np\n",
    "a = np.array([-1,2,3,4,5],dtype = 'ulonglong')\n",
    "print(a)\n",
    "print(a.dtype)"
   ]
  },
  {
   "cell_type": "markdown",
   "id": "1233b7ec",
   "metadata": {},
   "source": [
    "## Float DataType"
   ]
  },
  {
   "cell_type": "code",
   "execution_count": 14,
   "id": "63cd3ce0",
   "metadata": {},
   "outputs": [
    {
     "name": "stdout",
     "output_type": "stream",
     "text": [
      "[1.23 2.3  4.   4.5  5.  ]\n",
      "float64\n"
     ]
    }
   ],
   "source": [
    "# Creating array with float in numpy\n",
    "a = np.array([1.23,2.3,4,4.5,5])\n",
    "print(a)\n",
    "print(a.dtype)"
   ]
  },
  {
   "cell_type": "code",
   "execution_count": 15,
   "id": "a842b7f6",
   "metadata": {},
   "outputs": [
    {
     "name": "stdout",
     "output_type": "stream",
     "text": [
      "[1. 2. 3. 4.]\n",
      "float32\n"
     ]
    }
   ],
   "source": [
    "import numpy as np\n",
    "a = np.array([1,2,3,4], dtype='f')\n",
    "print(a)\n",
    "print(a.dtype)"
   ]
  },
  {
   "cell_type": "code",
   "execution_count": 16,
   "id": "888b3d63",
   "metadata": {},
   "outputs": [
    {
     "name": "stdout",
     "output_type": "stream",
     "text": [
      "[1. 2. 3. 4.]\n",
      "float16\n"
     ]
    }
   ],
   "source": [
    "import numpy as np\n",
    "a = np.array([1,2,3,4], dtype='half')\n",
    "print(a)\n",
    "print(a.dtype)"
   ]
  },
  {
   "cell_type": "code",
   "execution_count": 17,
   "id": "fa81f764",
   "metadata": {},
   "outputs": [
    {
     "name": "stdout",
     "output_type": "stream",
     "text": [
      "[1. 2. 3. 4.]\n",
      "float32\n"
     ]
    }
   ],
   "source": [
    "import numpy as np\n",
    "a = np.array([1,2,3,4], dtype='single')\n",
    "print(a)\n",
    "print(a.dtype)"
   ]
  },
  {
   "cell_type": "code",
   "execution_count": 18,
   "id": "de56ad38",
   "metadata": {},
   "outputs": [
    {
     "name": "stdout",
     "output_type": "stream",
     "text": [
      "[1. 2. 3. 4.]\n",
      "float64\n"
     ]
    }
   ],
   "source": [
    "import numpy as np\n",
    "a = np.array([1,2,3,4], dtype='double')\n",
    "print(a)\n",
    "print(a.dtype)"
   ]
  },
  {
   "cell_type": "code",
   "execution_count": 19,
   "id": "7d541853",
   "metadata": {},
   "outputs": [
    {
     "name": "stdout",
     "output_type": "stream",
     "text": [
      "[1. 2. 3. 4.]\n",
      "float64\n"
     ]
    }
   ],
   "source": [
    "import numpy as np\n",
    "a = np.array([1,2,3,4], dtype='longdouble')\n",
    "print(a)\n",
    "print(a.dtype)"
   ]
  },
  {
   "cell_type": "markdown",
   "id": "cbf7715b",
   "metadata": {},
   "source": [
    "## Complex float DataType"
   ]
  },
  {
   "cell_type": "code",
   "execution_count": 20,
   "id": "a5b55284",
   "metadata": {},
   "outputs": [
    {
     "name": "stdout",
     "output_type": "stream",
     "text": [
      "[1.23+1.j 2.3 +2.j 4.  +0.j 4.5 +0.j 5.  +4.j]\n",
      "complex128\n"
     ]
    }
   ],
   "source": [
    "# Creating array with complex float in numpy\n",
    "a = np.array([1.23+1j,2.3+2j,4,4.5,5+4j])\n",
    "print(a)\n",
    "print(a.dtype)"
   ]
  },
  {
   "cell_type": "code",
   "execution_count": 21,
   "id": "7c357b8f",
   "metadata": {},
   "outputs": [
    {
     "name": "stdout",
     "output_type": "stream",
     "text": [
      "[1.+0.j 2.+0.j 3.+0.j 4.+0.j]\n",
      "complex64\n"
     ]
    }
   ],
   "source": [
    "import numpy as np\n",
    "a = np.array([1,2,3,4], dtype='csingle')\n",
    "print(a)\n",
    "print(a.dtype)"
   ]
  },
  {
   "cell_type": "code",
   "execution_count": 22,
   "id": "53bdb24c",
   "metadata": {},
   "outputs": [
    {
     "name": "stdout",
     "output_type": "stream",
     "text": [
      "[1.+0.j 2.+0.j 3.+0.j 4.+0.j]\n",
      "complex128\n"
     ]
    }
   ],
   "source": [
    "import numpy as np\n",
    "a = np.array([1,2,3,4], dtype='cdouble')\n",
    "print(a)\n",
    "print(a.dtype)"
   ]
  },
  {
   "cell_type": "code",
   "execution_count": 23,
   "id": "ed2132d4",
   "metadata": {},
   "outputs": [
    {
     "name": "stdout",
     "output_type": "stream",
     "text": [
      "[1.+0.j 2.+0.j 3.+0.j 4.+0.j]\n",
      "complex128\n"
     ]
    }
   ],
   "source": [
    "import numpy as np\n",
    "a = np.array([1,2,3,4], dtype='clongdouble')\n",
    "print(a)\n",
    "print(a.dtype)"
   ]
  },
  {
   "cell_type": "markdown",
   "id": "48bfc0b8",
   "metadata": {},
   "source": [
    "## Timedelta DataType"
   ]
  },
  {
   "cell_type": "code",
   "execution_count": 24,
   "id": "8c70ff5c",
   "metadata": {},
   "outputs": [
    {
     "name": "stdout",
     "output_type": "stream",
     "text": [
      "12 months\n",
      "timedelta64[M]\n"
     ]
    }
   ],
   "source": [
    "# Creating array with Timedelta in numpy\n",
    "a = np.timedelta64(12, 'M')\n",
    "print(a)\n",
    "print(a.dtype)"
   ]
  },
  {
   "cell_type": "code",
   "execution_count": 25,
   "id": "c770f006",
   "metadata": {},
   "outputs": [
    {
     "name": "stdout",
     "output_type": "stream",
     "text": [
      "12 days\n",
      "timedelta64[D]\n"
     ]
    }
   ],
   "source": [
    "a = np.timedelta64(12, 'D')\n",
    "print(a)\n",
    "print(a.dtype)"
   ]
  },
  {
   "cell_type": "code",
   "execution_count": 26,
   "id": "e3a19fa3",
   "metadata": {},
   "outputs": [
    {
     "name": "stdout",
     "output_type": "stream",
     "text": [
      "12 weeks\n",
      "timedelta64[W]\n"
     ]
    }
   ],
   "source": [
    "a = np.timedelta64(12, 'W')\n",
    "print(a)\n",
    "print(a.dtype)"
   ]
  },
  {
   "cell_type": "markdown",
   "id": "4f206772",
   "metadata": {},
   "source": [
    "## datetime DataType"
   ]
  },
  {
   "cell_type": "code",
   "execution_count": 27,
   "id": "9767e0d2",
   "metadata": {},
   "outputs": [
    {
     "name": "stdout",
     "output_type": "stream",
     "text": [
      "['2010-07-11' '2006-01-13']\n",
      "<U10\n"
     ]
    }
   ],
   "source": [
    "# Creating array with datetime in numpy\n",
    "a = np.array(['2010-07-11', '2006-01-13'])\n",
    "print(a)\n",
    "print(a.dtype)"
   ]
  },
  {
   "cell_type": "code",
   "execution_count": 28,
   "id": "def5f187",
   "metadata": {},
   "outputs": [
    {
     "name": "stdout",
     "output_type": "stream",
     "text": [
      "['2010-07-11' '2006-01-13' '2001-12-23']\n",
      "datetime64[D]\n"
     ]
    }
   ],
   "source": [
    "a = np.array(['2010-07-11', '2006-01-13','2001-12-23'],dtype='datetime64')\n",
    "print(a)\n",
    "print(a.dtype)"
   ]
  },
  {
   "cell_type": "code",
   "execution_count": 29,
   "id": "7aa6d2c8",
   "metadata": {},
   "outputs": [
    {
     "name": "stdout",
     "output_type": "stream",
     "text": [
      "['2010-07-11' '2006-01-13' '2010-08-13']\n",
      "datetime64[D]\n"
     ]
    }
   ],
   "source": [
    "import numpy as np\n",
    "a = np.array(['2010-07-11', '2006-01-13', '2010-08-13'], dtype='M')\n",
    "print(a)\n",
    "print(a.dtype)"
   ]
  },
  {
   "cell_type": "markdown",
   "id": "fd5293f1",
   "metadata": {},
   "source": [
    "## Object Datatype"
   ]
  },
  {
   "cell_type": "code",
   "execution_count": 31,
   "id": "a5ae4e54",
   "metadata": {},
   "outputs": [
    {
     "name": "stdout",
     "output_type": "stream",
     "text": [
      "['vamsi' 2 3 4]\n",
      "object\n"
     ]
    }
   ],
   "source": [
    "# Creating array with Object in numpy\n",
    "\n",
    "import numpy as np\n",
    "a = np.array(['vamsi',2,3,4], dtype='O')\n",
    "print(a)\n",
    "print(a.dtype)"
   ]
  },
  {
   "cell_type": "markdown",
   "id": "2145043c",
   "metadata": {},
   "source": [
    "## String Datatype"
   ]
  },
  {
   "cell_type": "code",
   "execution_count": 32,
   "id": "4888b3a0",
   "metadata": {},
   "outputs": [
    {
     "name": "stdout",
     "output_type": "stream",
     "text": [
      "[b'1' b'2' b'3' b'4']\n",
      "|S1\n"
     ]
    }
   ],
   "source": [
    "# Creating array with String in numpy\n",
    "\n",
    "import numpy as np\n",
    "a = np.array([1,2,3,4], dtype='S')\n",
    "print(a)\n",
    "print(a.dtype)"
   ]
  },
  {
   "cell_type": "code",
   "execution_count": 33,
   "id": "f3e5f895",
   "metadata": {},
   "outputs": [
    {
     "name": "stdout",
     "output_type": "stream",
     "text": [
      "['vamsi' 'Harshith' 'Datta' 'ch']\n",
      "<U8\n"
     ]
    }
   ],
   "source": [
    "a = np.array(['vamsi', 'Harshith', 'Datta', 'ch'])\n",
    "print(a)\n",
    "print(a.dtype)"
   ]
  },
  {
   "cell_type": "markdown",
   "id": "7be38fde",
   "metadata": {},
   "source": [
    "## Unicode string DataType"
   ]
  },
  {
   "cell_type": "code",
   "execution_count": 34,
   "id": "4fb89011",
   "metadata": {},
   "outputs": [
    {
     "name": "stdout",
     "output_type": "stream",
     "text": [
      "['e' 'ģ' 'µF' '∂r']\n",
      "<U2\n"
     ]
    }
   ],
   "source": [
    "## creating array with unicode in array:\n",
    "a = np.array([u'\\u0065', u'\\u0123', u'\\265F', u'\\u2202r'])\n",
    "print(a)\n",
    "print(a.dtype)"
   ]
  },
  {
   "cell_type": "code",
   "execution_count": 35,
   "id": "2ecfa43a",
   "metadata": {},
   "outputs": [
    {
     "name": "stdout",
     "output_type": "stream",
     "text": [
      "['Δ' 'µE' 'µF' '∂r']\n",
      "<U2\n"
     ]
    }
   ],
   "source": [
    "import numpy as np\n",
    "a = np.array([u'\\u0394', u'\\265E', u'\\265F', u'\\u2202r'], dtype='U')\n",
    "print(a)\n",
    "print(a.dtype)"
   ]
  },
  {
   "cell_type": "code",
   "execution_count": null,
   "id": "e9ba7b47",
   "metadata": {},
   "outputs": [],
   "source": []
  }
 ],
 "metadata": {
  "kernelspec": {
   "display_name": "Python 3",
   "language": "python",
   "name": "python3"
  },
  "language_info": {
   "codemirror_mode": {
    "name": "ipython",
    "version": 3
   },
   "file_extension": ".py",
   "mimetype": "text/x-python",
   "name": "python",
   "nbconvert_exporter": "python",
   "pygments_lexer": "ipython3",
   "version": "3.8.8"
  }
 },
 "nbformat": 4,
 "nbformat_minor": 5
}
