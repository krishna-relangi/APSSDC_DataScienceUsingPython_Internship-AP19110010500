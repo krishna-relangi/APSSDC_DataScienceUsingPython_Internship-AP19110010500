{
 "cells": [
  {
   "cell_type": "markdown",
   "id": "6efa9726",
   "metadata": {},
   "source": [
    "# TASK\n",
    "- Generate 3-Digit OTP from 2 different Classes (Mail class and Phone Class)\n",
    "- return 6digit OTP from Baseclasses(super classes)"
   ]
  },
  {
   "cell_type": "code",
   "execution_count": 1,
   "id": "a613f6c1",
   "metadata": {},
   "outputs": [],
   "source": [
    "import random\n",
    "class Mail():\n",
    "    def __init__(self):\n",
    "        self.s1 = random.randint(100,999)\n",
    "        print(\"The First 3-digit OTP by Mail is :\", self.s1)\n",
    "class Phone():\n",
    "    def __init__(self):\n",
    "        self.s2 = random.randint(100,999)\n",
    "        print(\"The Next 3-digit OTP by Phone is :\", self.s2)\n",
    "class Base(Mail,Phone):\n",
    "    def __init__(self):\n",
    "        Mail.__init__(self)\n",
    "        Phone.__init__(self)\n",
    "        print(\"The 6-digit OTP is : \",str(self.s1)+str(self.s2))"
   ]
  },
  {
   "cell_type": "code",
   "execution_count": 2,
   "id": "5fa84454",
   "metadata": {},
   "outputs": [
    {
     "name": "stdout",
     "output_type": "stream",
     "text": [
      "The First 3-digit OTP by Mail is : 925\n",
      "The Next 3-digit OTP by Phone is : 560\n",
      "The 6-digit OTP is :  925560\n"
     ]
    }
   ],
   "source": [
    "obj = Base()\n"
   ]
  },
  {
   "cell_type": "code",
   "execution_count": 3,
   "id": "b3c40e05",
   "metadata": {},
   "outputs": [
    {
     "name": "stdout",
     "output_type": "stream",
     "text": [
      "The First 3-digit OTP by Mail is : 951\n",
      "The Next 3-digit OTP by Phone is : 784\n",
      "The 6-digit OTP is :  951784\n"
     ]
    }
   ],
   "source": [
    "obj = Base()"
   ]
  },
  {
   "cell_type": "code",
   "execution_count": null,
   "id": "95339fd8",
   "metadata": {},
   "outputs": [],
   "source": []
  }
 ],
 "metadata": {
  "kernelspec": {
   "display_name": "Python 3",
   "language": "python",
   "name": "python3"
  },
  "language_info": {
   "codemirror_mode": {
    "name": "ipython",
    "version": 3
   },
   "file_extension": ".py",
   "mimetype": "text/x-python",
   "name": "python",
   "nbconvert_exporter": "python",
   "pygments_lexer": "ipython3",
   "version": "3.8.8"
  }
 },
 "nbformat": 4,
 "nbformat_minor": 5
}
