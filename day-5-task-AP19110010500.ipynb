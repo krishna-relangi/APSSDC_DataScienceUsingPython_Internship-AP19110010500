{
 "cells": [
  {
   "cell_type": "markdown",
   "id": "3e5ed449",
   "metadata": {},
   "source": [
    "# Task\n",
    "- Write a Python program to sum all the items in a list.\n",
    "- Write a Python program to convert a list of characters into a string\n",
    "- program to put even and odd elements in a list into two different lists\n",
    "- Write a Python program to remove duplicates from a list\n",
    "- Write a Python program to check a list is empty or not.\n",
    "- Write a Python program to print a specified list after removing the 0th, 4th and 5th elements.\n",
    "- Write a Python that takes two lists and returns True if they have at least one common member."
   ]
  },
  {
   "cell_type": "code",
   "execution_count": 1,
   "id": "5b3b9d9d",
   "metadata": {},
   "outputs": [
    {
     "name": "stdout",
     "output_type": "stream",
     "text": [
      "Enter no.of Elements: 5\n",
      "1\n",
      "2\n",
      "5\n",
      "6\n",
      "8\n",
      "[1, 2, 5, 6, 8]\n",
      "Sum of all the items in a list:  22\n"
     ]
    }
   ],
   "source": [
    "# Write a Python program to sum all the items in a list.\n",
    "\n",
    "l = []\n",
    "n = int(input(\"Enter no.of Elements: \"))\n",
    "for i in range(0,n):\n",
    "    a = int(input())\n",
    "    l.append(a)\n",
    "print(l)\n",
    "sum = 0\n",
    "for j in range(0,len(l)):\n",
    "    sum = sum + l[j]\n",
    "print(\"Sum of all the items in a list: \",sum)"
   ]
  },
  {
   "cell_type": "code",
   "execution_count": 3,
   "id": "027e0e7e",
   "metadata": {},
   "outputs": [
    {
     "name": "stdout",
     "output_type": "stream",
     "text": [
      "Enter no.of  character: 6\n",
      "1\n",
      "a\n",
      "q\n",
      "z\n",
      "t\n",
      "q\n",
      "['1', 'a', 'q', 'z', 't', 'q']\n"
     ]
    },
    {
     "data": {
      "text/plain": [
       "'1 a q z t q'"
      ]
     },
     "execution_count": 3,
     "metadata": {},
     "output_type": "execute_result"
    }
   ],
   "source": [
    "# Write a Python program to convert a list of characters into a string\n",
    "\n",
    "l = []\n",
    "n = int(input(\"Enter no.of  character: \"))\n",
    "for i in range(0,n):\n",
    "    elements = str(input())\n",
    "    l.append(elements)\n",
    "print(l)\n",
    "\" \".join(l)"
   ]
  },
  {
   "cell_type": "code",
   "execution_count": 4,
   "id": "9e4115e3",
   "metadata": {},
   "outputs": [
    {
     "name": "stdout",
     "output_type": "stream",
     "text": [
      "Enter no.of elements: 5\n",
      "1\n",
      "2\n",
      "3\n",
      "4\n",
      "5\n",
      "Even List [2, 4]\n",
      "Odd list [1, 3, 5]\n"
     ]
    }
   ],
   "source": [
    "# Program to put even and odd elements in a list into two different lists\n",
    "\n",
    "l = []\n",
    "l1 = []\n",
    "l2 = []\n",
    "n = int(input(\"Enter no.of elements: \"))\n",
    "for i in range(int(n)):\n",
    "    elements = int(input())\n",
    "    l.append(elements)\n",
    "    \n",
    "for i in l:\n",
    "    if i % 2 == 0:\n",
    "        l1.append(i)\n",
    "    else:\n",
    "        l2.append(i)\n",
    "print(\"Even List\",l1)\n",
    "print(\"Odd list\",l2)"
   ]
  },
  {
   "cell_type": "code",
   "execution_count": 5,
   "id": "f99dc367",
   "metadata": {},
   "outputs": [
    {
     "name": "stdout",
     "output_type": "stream",
     "text": [
      "Enter no.of Elements: 6\n",
      "1\n",
      "2\n",
      "3\n",
      "3\n",
      "5\n",
      "5\n",
      "List Before [1, 2, 3, 3, 5, 5]\n",
      "List after removing duplicates:  [1, 2, 3, 5]\n"
     ]
    }
   ],
   "source": [
    "# Write a Python program to remove duplicates from a list\n",
    "\n",
    "l = []\n",
    "n = int(input(\"Enter no.of Elements: \"))\n",
    "for i in range(0,n):\n",
    "    a = int(input())\n",
    "    l.append(a)\n",
    "print(\"List Before\",l)\n",
    "l1 = []\n",
    "for j in l:\n",
    "    if j not in l1:\n",
    "        l1.append(j)\n",
    "\n",
    "print(\"List after removing duplicates: \",l1)"
   ]
  },
  {
   "cell_type": "code",
   "execution_count": 6,
   "id": "f23afa3e",
   "metadata": {},
   "outputs": [
    {
     "name": "stdout",
     "output_type": "stream",
     "text": [
      "Empty\n"
     ]
    }
   ],
   "source": [
    "# Write a Python program to check a list is empty or not.\n",
    "arr = []\n",
    "print(\"Empty\" if len(arr) == 0 else \"Not empty\")"
   ]
  },
  {
   "cell_type": "code",
   "execution_count": 10,
   "id": "95388d76",
   "metadata": {},
   "outputs": [
    {
     "name": "stdout",
     "output_type": "stream",
     "text": [
      "Enter no.of Elements: 4\n",
      "1\n",
      "2\n",
      "3\n",
      "4\n",
      "[1, 2, 3, 4]\n",
      "Not Empty\n"
     ]
    }
   ],
   "source": [
    "l = []\n",
    "n = int(input(\"Enter no.of Elements: \"))\n",
    "for i in range(0,n):\n",
    "    a = int(input())\n",
    "    l.append(a)\n",
    "print(l)\n",
    "if len(l)==0:\n",
    "    print(\"Empty\")\n",
    "else:\n",
    "    print(\"Not Empty\")"
   ]
  },
  {
   "cell_type": "code",
   "execution_count": 12,
   "id": "a93cd825",
   "metadata": {},
   "outputs": [
    {
     "name": "stdout",
     "output_type": "stream",
     "text": [
      "Enter no.of Elements: 8\n",
      "1\n",
      "2\n",
      "2\n",
      "3\n",
      "3\n",
      "3\n",
      "3\n",
      "5\n",
      "Before Removing elements:  [1, 2, 2, 3, 3, 3, 3, 5]\n",
      "After removing 0th,4th and 5th element:  [2, 2, 3, 3, 3]\n"
     ]
    }
   ],
   "source": [
    "# Write a Python program to print a specified list after removing the 0th, 4th and 5th elements.\n",
    "\n",
    "l = []\n",
    "n = int(input(\"Enter no.of Elements: \"))\n",
    "for i in range(0,n):\n",
    "    a = int(input())\n",
    "    l.append(a)\n",
    "print(\"Before Removing elements: \",l)\n",
    "del l[0],l[4],l[5]\n",
    "print(\"After removing 0th,4th and 5th element: \",l)"
   ]
  },
  {
   "cell_type": "code",
   "execution_count": 14,
   "id": "26e4e570",
   "metadata": {},
   "outputs": [
    {
     "name": "stdout",
     "output_type": "stream",
     "text": [
      "Enter no.of elements for list1: 2\n",
      "vamsi\n",
      "ravi\n",
      "The entered list1 is:  ['vamsi', 'ravi']\n",
      "Enter no.of elements for list2: 2\n",
      "vamsi\n",
      "ram\n",
      "The entered list2 is:  ['vamsi', 'ram']\n",
      "True\n",
      "The common elements are:  ['vamsi']\n"
     ]
    }
   ],
   "source": [
    "# Write a Python that takes two lists and returns True if they have at least one common member.\n",
    "\n",
    "l1 = []\n",
    "l2 = []\n",
    "n1 = int(input(\"Enter no.of elements for list1: \"))\n",
    "for i in range(0,n1):\n",
    "    a = str(input())\n",
    "    l1.append(a)\n",
    "print(\"The entered list1 is: \",l1)\n",
    "n2 = int(input(\"Enter no.of elements for list2: \"))\n",
    "for j in range(0,n2):\n",
    "    b = str(input())\n",
    "    l2.append(b)\n",
    "print(\"The entered list2 is: \",l2)\n",
    "l=[]\n",
    "for k in l1:\n",
    "    for m in l2:\n",
    "        if k == m:\n",
    "            l.append(k)\n",
    "            print(\"True\") \n",
    "\n",
    "print(\"The common elements are: \",l)"
   ]
  },
  {
   "cell_type": "code",
   "execution_count": null,
   "id": "7668f358",
   "metadata": {},
   "outputs": [],
   "source": []
  }
 ],
 "metadata": {
  "kernelspec": {
   "display_name": "Python 3",
   "language": "python",
   "name": "python3"
  },
  "language_info": {
   "codemirror_mode": {
    "name": "ipython",
    "version": 3
   },
   "file_extension": ".py",
   "mimetype": "text/x-python",
   "name": "python",
   "nbconvert_exporter": "python",
   "pygments_lexer": "ipython3",
   "version": "3.8.8"
  }
 },
 "nbformat": 4,
 "nbformat_minor": 5
}
