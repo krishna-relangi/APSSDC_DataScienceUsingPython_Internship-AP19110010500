{
 "cells": [
  {
   "cell_type": "markdown",
   "id": "720726e3",
   "metadata": {},
   "source": [
    "# TASK-1"
   ]
  },
  {
   "cell_type": "code",
   "execution_count": 1,
   "id": "e9dbe1fc",
   "metadata": {},
   "outputs": [],
   "source": [
    "# Take last 3 values of roll number(AP19110010421)\n",
    "# if value is startswith \"01\" --> 'Cse Dept'\n",
    "# elif value is starts with '11' --> 'IT Dept'\n",
    "# elif value is startswith \"21\" --> 'ECE Dept'\n",
    "# else not an SRM student"
   ]
  },
  {
   "cell_type": "code",
   "execution_count": 2,
   "id": "58ab88ef",
   "metadata": {},
   "outputs": [
    {
     "name": "stdout",
     "output_type": "stream",
     "text": [
      "Enter your Roll number : AP19110010500\n",
      "AP19110010500 The Last Three Digits are 500\n",
      "500 not an SRM student\n"
     ]
    }
   ],
   "source": [
    "string = str(input(\"Enter your Roll number : \"))\n",
    "last_3 = string[-3:]\n",
    "print(string,\"The Last Three Digits are\", last_3)\n",
    "if last_3.startswith('01'):\n",
    "    print(last_3,\"Student belongs to CSE Department\")\n",
    "elif last_3.startswith('11'):\n",
    "    print(last_3,\"Student belongs to IT Department\")\n",
    "elif last_3.startswith('11'):\n",
    "    print(last_3,\"Student belongs to ECE Department\")\n",
    "else:\n",
    "    print(last_3,\"not an SRM student\")"
   ]
  },
  {
   "cell_type": "markdown",
   "id": "16a58c93",
   "metadata": {},
   "source": [
    "# TASK-2\n",
    "- Find all leap years between 1800 to 2020"
   ]
  },
  {
   "cell_type": "code",
   "execution_count": 3,
   "id": "29b73228",
   "metadata": {},
   "outputs": [
    {
     "name": "stdout",
     "output_type": "stream",
     "text": [
      "1804\t1808\t1812\t1816\t1820\t1824\t1828\t1832\t1836\t1840\t1844\t1848\t1852\t1856\t1860\t1864\t1868\t1872\t1876\t1880\t1884\t1888\t1892\t1896\t1904\t1908\t1912\t1916\t1920\t1924\t1928\t1932\t1936\t1940\t1944\t1948\t1952\t1956\t1960\t1964\t1968\t1972\t1976\t1980\t1984\t1988\t1992\t1996\t2000\t2004\t2008\t2012\t2016\t2020\t"
     ]
    }
   ],
   "source": [
    "for yr in range(1800,2021):\n",
    "    if (yr % 4 == 0 and yr % 100 != 0) or (yr % 400 == 0):\n",
    "        print(yr,end = '\\t')"
   ]
  },
  {
   "cell_type": "code",
   "execution_count": 4,
   "id": "e54e25f5",
   "metadata": {},
   "outputs": [
    {
     "name": "stdout",
     "output_type": "stream",
     "text": [
      "Enter starting Year: 1800\n",
      "Enter ending Year: 2020\n",
      "The Leap year between 1800 and 2020 are :\n",
      "1804, 1808, 1812, 1816, 1820, 1824, 1828, 1832, 1836, 1840, 1844, 1848, 1852, 1856, 1860, 1864, 1868, 1872, 1876, 1880, 1884, 1888, 1892, 1896, 1904, 1908, 1912, 1916, 1920, 1924, 1928, 1932, 1936, 1940, 1944, 1948, 1952, 1956, 1960, 1964, 1968, 1972, 1976, 1980, 1984, 1988, 1992, 1996, 2000, 2004, 2008, 2012, 2016, 2020, "
     ]
    }
   ],
   "source": [
    "yr1 = int(input(\"Enter starting Year: \"))\n",
    "yr2 = int(input(\"Enter ending Year: \"))\n",
    "print(\"The Leap year between\", yr1 , \"and\", yr2 , \"are :\")\n",
    "for yr in range(yr1,yr2+1):\n",
    "    if (yr % 4 == 0 and yr % 100 != 0) or (yr % 400 == 0):\n",
    "        print(yr, end =\", \")"
   ]
  },
  {
   "cell_type": "code",
   "execution_count": null,
   "id": "9753ea6c",
   "metadata": {},
   "outputs": [],
   "source": []
  }
 ],
 "metadata": {
  "kernelspec": {
   "display_name": "Python 3",
   "language": "python",
   "name": "python3"
  },
  "language_info": {
   "codemirror_mode": {
    "name": "ipython",
    "version": 3
   },
   "file_extension": ".py",
   "mimetype": "text/x-python",
   "name": "python",
   "nbconvert_exporter": "python",
   "pygments_lexer": "ipython3",
   "version": "3.8.8"
  }
 },
 "nbformat": 4,
 "nbformat_minor": 5
}
