{
 "cells": [
  {
   "cell_type": "markdown",
   "id": "8d9a2c38",
   "metadata": {},
   "source": [
    "# Task\n",
    "- take input from the user.\n",
    "- check the length of the string even or odd\n",
    "- if the string length is odd access one middle character\n",
    "- if the string length is even access two middle character"
   ]
  },
  {
   "cell_type": "code",
   "execution_count": 1,
   "id": "8379761f",
   "metadata": {},
   "outputs": [
    {
     "name": "stdout",
     "output_type": "stream",
     "text": [
      "Enter The String: Relangi Babi vamsi krishna\n",
      "The Entered string is :  Relangi Babi vamsi krishna\n",
      "The Length of string is:  26 and it has Even no.of characters \n",
      "The middle characters of string are:   ,v\n"
     ]
    }
   ],
   "source": [
    "n = input(\"Enter The String: \")\n",
    "print(\"The Entered string is : \" , n)\n",
    "if len(n)%2 == 0 :\n",
    "    print(\"The Length of string is: \",len(n),\"and it has Even no.of characters \")\n",
    "    print(\"The middle characters of string are: \", (n[len(n)//2 - 1]) + \",\"+ (n[len(n)//2]) )\n",
    "else:\n",
    "    print(\"The Length of string is: \",len(n),\"and it has Odd no.of characters \")\n",
    "    print(\"The middle characters of string are: \" , n[len(n)//2] )"
   ]
  },
  {
   "cell_type": "code",
   "execution_count": null,
   "id": "106085de",
   "metadata": {},
   "outputs": [],
   "source": []
  }
 ],
 "metadata": {
  "kernelspec": {
   "display_name": "Python 3",
   "language": "python",
   "name": "python3"
  },
  "language_info": {
   "codemirror_mode": {
    "name": "ipython",
    "version": 3
   },
   "file_extension": ".py",
   "mimetype": "text/x-python",
   "name": "python",
   "nbconvert_exporter": "python",
   "pygments_lexer": "ipython3",
   "version": "3.8.8"
  }
 },
 "nbformat": 4,
 "nbformat_minor": 5
}
