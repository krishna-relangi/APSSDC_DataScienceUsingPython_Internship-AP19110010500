{
 "cells": [
  {
   "cell_type": "code",
   "execution_count": 1,
   "id": "9fbd0d89",
   "metadata": {},
   "outputs": [
    {
     "name": "stdout",
     "output_type": "stream",
     "text": [
      "Enter yourdata: vamsi is web designer\n",
      "The coverted data is:  Vamsi is Web Designer\n"
     ]
    }
   ],
   "source": [
    "import modules2\n",
    "modules2.camelcasecon()"
   ]
  },
  {
   "cell_type": "code",
   "execution_count": 2,
   "id": "fe2475a1",
   "metadata": {},
   "outputs": [
    {
     "name": "stdout",
     "output_type": "stream",
     "text": [
      "Enter yourdata: VAMSI\n",
      "👍\n"
     ]
    }
   ],
   "source": [
    "import modules2\n",
    "modules2.camelcasecon()"
   ]
  },
  {
   "cell_type": "code",
   "execution_count": null,
   "id": "1da788b7",
   "metadata": {},
   "outputs": [],
   "source": []
  }
 ],
 "metadata": {
  "kernelspec": {
   "display_name": "Python 3",
   "language": "python",
   "name": "python3"
  },
  "language_info": {
   "codemirror_mode": {
    "name": "ipython",
    "version": 3
   },
   "file_extension": ".py",
   "mimetype": "text/x-python",
   "name": "python",
   "nbconvert_exporter": "python",
   "pygments_lexer": "ipython3",
   "version": "3.8.8"
  }
 },
 "nbformat": 4,
 "nbformat_minor": 5
}
