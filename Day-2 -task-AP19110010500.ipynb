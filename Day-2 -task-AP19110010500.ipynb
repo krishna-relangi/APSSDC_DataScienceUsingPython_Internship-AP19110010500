{
 "cells": [
  {
   "cell_type": "markdown",
   "id": "c89da26f",
   "metadata": {},
   "source": [
    "### Name - Relangi Babi Vamsi krishna\n",
    "### Id Number - AP19110010500\n",
    "### Branch - CSE\n",
    "#### Day 2 Tasks -\n",
    "1. Write a program to check wheather the user eligible for vote or not\n",
    "2. Check the given number is positive or negative\n",
    "3. check the given number is even or odd if it's even check which is divisible by 4 or not\n",
    "4. write a program to print student grade based on persentage like Distinction,pass or fail\n",
    "5. Check the given year is Leap or not"
   ]
  },
  {
   "cell_type": "markdown",
   "id": "7d4f6b82",
   "metadata": {},
   "source": [
    "#### 1. Write a program to check whether the user eligible for vote or not"
   ]
  },
  {
   "cell_type": "code",
   "execution_count": 1,
   "id": "32884d0c",
   "metadata": {},
   "outputs": [
    {
     "name": "stdout",
     "output_type": "stream",
     "text": [
      "Please enter age of the person: 16\n",
      "The person is not eligible to vote\n"
     ]
    }
   ],
   "source": [
    "person_age = int(input(\"Please enter age of the person: \"))\n",
    "if person_age>=18:\n",
    "    print(\"The person is eligible to vote\")\n",
    "else:\n",
    "    print(\"The person is not eligible to vote\")"
   ]
  },
  {
   "cell_type": "markdown",
   "id": "d7b329fa",
   "metadata": {},
   "source": [
    "#### 2. Check the given number is positive or negative"
   ]
  },
  {
   "cell_type": "code",
   "execution_count": 2,
   "id": "eb46f02b",
   "metadata": {},
   "outputs": [
    {
     "name": "stdout",
     "output_type": "stream",
     "text": [
      "Enter any number: 43\n",
      "The Given Number is a positive number and the given number is 43.0\n"
     ]
    }
   ],
   "source": [
    "given_number = float(input(\"Enter any number: \"))\n",
    "if given_number>0:\n",
    "    print(\"The Given Number is a positive number and the given number is {}\".format(given_number))\n",
    "elif given_number<0:\n",
    "    print(\"The Given Number is a negative number and the given number is {}\".format(given_number))\n",
    "else:\n",
    "    print(\"The Given Number is 0\")"
   ]
  },
  {
   "cell_type": "markdown",
   "id": "2c4d9f51",
   "metadata": {},
   "source": [
    "#### 3. Check the given number is even or odd if it's even check which is divisible by 4 or not"
   ]
  },
  {
   "cell_type": "code",
   "execution_count": 6,
   "id": "4e286569",
   "metadata": {},
   "outputs": [
    {
     "name": "stdout",
     "output_type": "stream",
     "text": [
      "32\n",
      "the given number is even\n",
      "The number can be divisible by 4\n"
     ]
    }
   ],
   "source": [
    "n = int(input())\n",
    "if(n%2==0):\n",
    "    print(\"the given number is even\")\n",
    "    if(n%4==0):\n",
    "        print(\"The number can be divisible by 4\")\n",
    "    else:\n",
    "        print(\"The number is not divisible by 4\")\n",
    "else:\n",
    "    print(\"the given number is odd\")"
   ]
  },
  {
   "cell_type": "markdown",
   "id": "37715ad9",
   "metadata": {},
   "source": [
    "#### 4. Write a program to print student grade based on percentage like Distinction,pass or fail \n",
    "\n"
   ]
  },
  {
   "cell_type": "code",
   "execution_count": 7,
   "id": "cad503e8",
   "metadata": {},
   "outputs": [
    {
     "name": "stdout",
     "output_type": "stream",
     "text": [
      "77\n",
      "Congratulation you passed\n"
     ]
    }
   ],
   "source": [
    "per = float(input())\n",
    "if(per>=85):\n",
    "    print(\"Hey! you passed in Distinction\")\n",
    "elif(per>35):\n",
    "    print(\"Congratulation you passed\")\n",
    "else:\n",
    "    print(\"You Failed \")"
   ]
  },
  {
   "cell_type": "markdown",
   "id": "0d70198b",
   "metadata": {},
   "source": [
    "#### 5. Check the given year is Leap or not"
   ]
  },
  {
   "cell_type": "code",
   "execution_count": 8,
   "id": "d41394ea",
   "metadata": {},
   "outputs": [
    {
     "name": "stdout",
     "output_type": "stream",
     "text": [
      "Enter Year: 2021\n",
      "2021 is not a Leap Year\n"
     ]
    }
   ],
   "source": [
    "Year = int(input(\"Enter Year: \"))\n",
    "if Year % 4 == 0 and Year % 100 != 0:\n",
    "    print(Year, \"is a Leap Year\")\n",
    "elif Year % 100 == 0:\n",
    "    print(Year, \"is not a Leap Year\")\n",
    "elif Year % 400 ==0:\n",
    "    print(Year, \"is a Leap Year\")\n",
    "else:\n",
    "    print(Year, \"is not a Leap Year\")"
   ]
  },
  {
   "cell_type": "code",
   "execution_count": null,
   "id": "6fdf1ee1",
   "metadata": {},
   "outputs": [],
   "source": []
  }
 ],
 "metadata": {
  "kernelspec": {
   "display_name": "Python 3",
   "language": "python",
   "name": "python3"
  },
  "language_info": {
   "codemirror_mode": {
    "name": "ipython",
    "version": 3
   },
   "file_extension": ".py",
   "mimetype": "text/x-python",
   "name": "python",
   "nbconvert_exporter": "python",
   "pygments_lexer": "ipython3",
   "version": "3.8.8"
  }
 },
 "nbformat": 4,
 "nbformat_minor": 5
}
