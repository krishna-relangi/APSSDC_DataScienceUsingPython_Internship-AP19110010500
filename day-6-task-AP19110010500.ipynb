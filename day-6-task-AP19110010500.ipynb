{
 "cells": [
  {
   "cell_type": "markdown",
   "id": "bad05a0c",
   "metadata": {},
   "source": [
    "# 1. Write a pattern to display 4 digit numbers from list"
   ]
  },
  {
   "cell_type": "code",
   "execution_count": 1,
   "id": "f30983e9",
   "metadata": {},
   "outputs": [
    {
     "name": "stdout",
     "output_type": "stream",
     "text": [
      "1313\n",
      "1234\n",
      "7606\n",
      "5820\n",
      "0388\n"
     ]
    }
   ],
   "source": [
    "# Method 1\n",
    "import re\n",
    "list1 = {\"0388\",\"78934903\",\"345678\",\"1234\",\"7606\",\"87878\",\"5820\",\"1313\"}\n",
    "for i in list1:\n",
    "    if re.findall('^[0-9]{4}$',i):\n",
    "        print(i)"
   ]
  },
  {
   "cell_type": "code",
   "execution_count": 3,
   "id": "fafbfe40",
   "metadata": {},
   "outputs": [
    {
     "name": "stdout",
     "output_type": "stream",
     "text": [
      "Enter no.of elements for list: 6\n",
      "1234\n",
      "1234556\n",
      "6547\n",
      "78939887\n",
      "6767\n",
      "9999\n",
      "The List is:  ['1234', '1234556', '6547', '78939887', '6767', '9999']\n",
      "The Four digits numbers from the list are : \n",
      "1234 \t6547 \t6767 \t9999 \t"
     ]
    }
   ],
   "source": [
    "# Method 2\n",
    "l1 = []\n",
    "n = int(input(\"Enter no.of elements for list: \"))\n",
    "for i in range(n):\n",
    "    a = input()\n",
    "    l1.append(a)\n",
    "print(\"The List is: \",l1)\n",
    "\n",
    "import re\n",
    "print(\"The Four digits numbers from the list are : \")\n",
    "for i in l1:\n",
    "    if re.findall('^[0-9]{4}$',i):\n",
    "        print(i, end =\" \\t\")"
   ]
  },
  {
   "cell_type": "markdown",
   "id": "c79bd4ef",
   "metadata": {},
   "source": [
    "# 2. Validate a phone number using patterns"
   ]
  },
  {
   "cell_type": "code",
   "execution_count": 4,
   "id": "c14100bf",
   "metadata": {},
   "outputs": [
    {
     "name": "stdout",
     "output_type": "stream",
     "text": [
      "6247888433\n",
      "9999532726\n",
      "7207201571\n"
     ]
    }
   ],
   "source": [
    "# Method1\n",
    "import re\n",
    "ph_list = [\"6247888433\",\"9999532726\",\"7207201571\",\"789654\",\"1234567890\"]\n",
    "for i in ph_list:\n",
    "    if re.findall('[6-9]{1}[0-9]{9}$',i):\n",
    "        print(i)"
   ]
  },
  {
   "cell_type": "code",
   "execution_count": 5,
   "id": "aa0eb03e",
   "metadata": {},
   "outputs": [
    {
     "name": "stdout",
     "output_type": "stream",
     "text": [
      "Enter no.of elements for list: 4\n",
      "9876786868\n",
      "9963039933\n",
      "8769388\n",
      "9949161379\n",
      "The List is:  ['9876786868', '9963039933', '8769388', '9949161379']\n",
      "The Validate phone numbers from the list are : \n",
      "9876786868\n",
      "9963039933\n",
      "9949161379\n"
     ]
    }
   ],
   "source": [
    "# Method 2\n",
    "ph_list = []\n",
    "n = int(input(\"Enter no.of elements for list: \"))\n",
    "for i in range(n):\n",
    "    a = input()\n",
    "    ph_list.append(a)\n",
    "print(\"The List is: \",ph_list)\n",
    "\n",
    "import re\n",
    "print(\"The Validate phone numbers from the list are : \")\n",
    "for i in ph_list:\n",
    "    if re.findall('[6-9]{1}[0-9]{9}$',i):\n",
    "        print(i)"
   ]
  },
  {
   "cell_type": "code",
   "execution_count": null,
   "id": "d90d8d02",
   "metadata": {},
   "outputs": [],
   "source": []
  }
 ],
 "metadata": {
  "kernelspec": {
   "display_name": "Python 3",
   "language": "python",
   "name": "python3"
  },
  "language_info": {
   "codemirror_mode": {
    "name": "ipython",
    "version": 3
   },
   "file_extension": ".py",
   "mimetype": "text/x-python",
   "name": "python",
   "nbconvert_exporter": "python",
   "pygments_lexer": "ipython3",
   "version": "3.8.8"
  }
 },
 "nbformat": 4,
 "nbformat_minor": 5
}
